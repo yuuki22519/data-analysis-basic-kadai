{
  "nbformat": 4,
  "nbformat_minor": 0,
  "metadata": {
    "colab": {
      "provenance": []
    },
    "kernelspec": {
      "name": "python3",
      "display_name": "Python 3"
    },
    "language_info": {
      "name": "python"
    }
  },
  "cells": [
    {
      "cell_type": "code",
      "execution_count": 30,
      "metadata": {
        "colab": {
          "base_uri": "https://localhost:8080/"
        },
        "id": "u9PUfCx8Y42L",
        "outputId": "368b7b2c-cdf2-4a9b-a240-d04d34cfbc2d"
      },
      "outputs": [
        {
          "output_type": "stream",
          "name": "stdout",
          "text": [
            "(178, 13) (124, 13) (54, 13) (178,) (124,) (54,)\n"
          ]
        },
        {
          "output_type": "execute_result",
          "data": {
            "text/plain": [
              "0.9629629629629629"
            ]
          },
          "metadata": {},
          "execution_count": 30
        }
      ],
      "source": [
        "# Step1.\n",
        "from sklearn.datasets import load_wine\n",
        "\n",
        "dataset = load_wine()\n",
        "dataset\n",
        "\n",
        "dataset.data\n",
        "dataset.feature_names\n",
        "\n",
        "# df作成\n",
        "import pandas as pd\n",
        "df = pd.DataFrame(data=dataset.data, columns=dataset.feature_names)\n",
        "df.head()\n",
        "\n",
        "dataset.target\n",
        "df['categery'] = dataset.target\n",
        "df.head()\n",
        "\n",
        "X = dataset.data\n",
        "y = dataset.target\n",
        "\n",
        "# 分割\n",
        "from sklearn.model_selection import train_test_split\n",
        "\n",
        "train_test_split(X, y, test_size=0.3, random_state=5)\n",
        "X_train, X_test, y_train, y_test = train_test_split(X, y, test_size=0.3, random_state=5)\n",
        "\n",
        "print(X.shape,X_train.shape, X_test.shape, y.shape, y_train.shape, y_test.shape)\n",
        "\n",
        "\n",
        "\n",
        "# Step2.（インスタンス化）\n",
        "from sklearn.ensemble import RandomForestClassifier  # ランダムフォレストへ変更済\n",
        "model = RandomForestClassifier(random_state=3)\n",
        "\n",
        "\n",
        "# Step3.\n",
        " # 予測モデルの学習\n",
        "model.fit(X_train, y_train)\n",
        "\n",
        " # 評価\n",
        "y_pred = model.predict(X_test)\n",
        "y_pred\n",
        "\n",
        " # 正解率を出す\n",
        "from sklearn.metrics import accuracy_score\n",
        "accuracy_score(y_test, y_pred)\n",
        "\n",
        "\n",
        "\n",
        "\n",
        "# 決定係数\n",
        "# model.score(X_test, y_test)"
      ]
    }
  ]
}